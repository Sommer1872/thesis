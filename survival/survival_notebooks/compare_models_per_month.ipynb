{
 "cells": [
  {
   "cell_type": "code",
   "execution_count": null,
   "metadata": {},
   "outputs": [],
   "source": [
    "# change notebook cell width\n",
    "from IPython.core.display import display, HTML\n",
    "display(HTML(\"<style>.container { width:80% !important; }</style>\"))\n",
    "\n",
    "%cd \"/Users/simon/code/thesis/\"\n",
    "\n",
    "%load_ext autoreload\n",
    "%autoreload 2\n",
    "from IPython.display import display"
   ]
  },
  {
   "cell_type": "code",
   "execution_count": null,
   "metadata": {},
   "outputs": [],
   "source": [
    "import gzip\n",
    "import math\n",
    "from pathlib import Path\n",
    "import pickle\n",
    "\n",
    "from lifelines import KaplanMeierFitter\n",
    "from lifelines.plotting import rmst_plot\n",
    "from lifelines.statistics import pairwise_logrank_test, logrank_test\n",
    "from lifelines.utils import restricted_mean_survival_time\n",
    "import matplotlib\n",
    "import matplotlib.pyplot as plt\n",
    "from matplotlib import colors\n",
    "import numpy as np\n",
    "import pandas as pd\n",
    "import plotly_express as px\n",
    "import plotly.graph_objects as go\n",
    "import seaborn as sns\n",
    "from scipy.stats import ranksums\n",
    "from tqdm.notebook import tqdm\n",
    "\n",
    "matplotlib.rcParams['figure.figsize'] = (20.0, 10.0)\n",
    "pd.options.display.float_format = '{:.2f}'.format"
   ]
  },
  {
   "cell_type": "code",
   "execution_count": null,
   "metadata": {},
   "outputs": [],
   "source": [
    "measure = \"time_to_fill\"\n",
    "# measure = \"time_to_removal\"\n",
    "dir_path = Path.home() / \"data/thesis_statistics/models\"\n",
    "model_paths = sorted(list(dir_path.glob(f\"*{measure}*.gz\")))\n",
    "\n",
    "models = dict()\n",
    "for filepath in tqdm(model_paths):\n",
    "    month = int(filepath.name.split(\"_\")[3])\n",
    "    with gzip.open(filepath, \"rb\") as handle:\n",
    "        model = pickle.load(handle)\n",
    "        models[month] = model"
   ]
  },
  {
   "cell_type": "code",
   "execution_count": null,
   "metadata": {},
   "outputs": [],
   "source": [
    "num_obs = 0\n",
    "for month, model in models.items():\n",
    "    num_obs += model.durations.shape[0] / 1e6\n",
    "print(f\"Number of orders: {round(num_obs, 2)}mn\")\n",
    "print(f\"Per moth: {round(num_obs/len(models), 2)}mn\")"
   ]
  },
  {
   "cell_type": "markdown",
   "metadata": {},
   "source": [
    "# Survial Functions"
   ]
  },
  {
   "cell_type": "code",
   "execution_count": null,
   "metadata": {},
   "outputs": [],
   "source": [
    "upper_limit = 100 # milliseconds"
   ]
  },
  {
   "cell_type": "code",
   "execution_count": null,
   "metadata": {},
   "outputs": [],
   "source": [
    "# for yearmonth, model in models.items():\n",
    "#     below_limit = len(model.durations[model.durations <= upper_limit])\n",
    "#     total = len(model.durations)\n",
    "#     percentage =  below_limit / total\n",
    "#     print(f\"{yearmonth} \\t {round(100*percentage)}%\")"
   ]
  },
  {
   "cell_type": "code",
   "execution_count": null,
   "metadata": {
    "scrolled": false
   },
   "outputs": [],
   "source": [
    "survivals = list()\n",
    "for yearmon, model in models.items():\n",
    "    estimated_survival = model.survival_function_.loc[:upper_limit].copy()\n",
    "    estimated_survival.columns = [\"percentage\"]\n",
    "    estimated_survival[\"yearmon\"] = yearmon\n",
    "    survivals.append(estimated_survival)\n",
    "\n",
    "survivals = pd.concat(survivals).reset_index()"
   ]
  },
  {
   "cell_type": "code",
   "execution_count": null,
   "metadata": {},
   "outputs": [],
   "source": [
    "# convert to probability of execution/deletion\n",
    "survivals[\"percentage\"] = 1 - survivals[\"percentage\"]"
   ]
  },
  {
   "cell_type": "code",
   "execution_count": null,
   "metadata": {},
   "outputs": [],
   "source": [
    "mask = 201907 <= survivals[\"yearmon\"]\n",
    "survivals.loc[mask, \"timespan\"] = \"Months after non-equivalence\"\n",
    "survivals.loc[~mask, \"timespan\"] = \"Months before non-equivalence\"\n",
    "survivals.sort_values([\"timespan\", \"timeline\"], ascending=False, inplace=True)\n",
    "\n",
    "# months = [yearmon*100 + 1 for yearmon in survivals[\"yearmon\"]]\n",
    "# months = pd.Series([pd.Timestamp(str(month)) for month in months])\n",
    "\n",
    "# survivals[\"yearmon\"] = pd.to_datetime((100 * survivals[\"yearmon\"] + 1).astype(str))\n",
    "# # months = months.dt.strftime(\"%b %y\")\n",
    "\n",
    "# # create labels for 2018 H2, 2019 H1 and H2\n",
    "# mask = (pd.Timestamp(\"2019-07-01\") <= survivals[\"yearmon\"]) & (survivals[\"yearmon\"] < pd.Timestamp(\"2020-01-01\"))\n",
    "# survivals.loc[mask, \"half_year\"] = \"2019 H2\"  # pd.Timestamp(\"20190701\")\n",
    "\n",
    "# mask = (pd.Timestamp(\"2019-01-01\") <= survivals[\"yearmon\"]) & (survivals[\"yearmon\"] < pd.Timestamp(\"2019-07-01\"))\n",
    "# survivals.loc[mask, \"half_year\"] = \"2019 H1\"  # pd.Timestamp(\"20190101\")\n",
    "\n",
    "# mask = (pd.Timestamp(\"2018-01-01\") <= survivals[\"yearmon\"]) & (survivals[\"yearmon\"] < pd.Timestamp(\"2019-01-01\"))\n",
    "# survivals.loc[mask, \"half_year\"] = \"2018 H2\"  # pd.Timestamp(\"20180701\")\n",
    "\n",
    "# survivals[\"yearmon\"] = survivals[\"yearmon\"].dt.strftime(\"%b %y\")"
   ]
  },
  {
   "cell_type": "code",
   "execution_count": null,
   "metadata": {},
   "outputs": [],
   "source": [
    "color = \"timespan\"\n",
    "\n",
    "fig = px.line(\n",
    "    survivals,\n",
    "    x=\"timeline\",\n",
    "    y=\"percentage\",\n",
    "    color=color,\n",
    "#     symbol=color,\n",
    "    hover_name=\"yearmon\",\n",
    "    template=\"plotly_white\",\n",
    "    color_discrete_sequence=[px.colors.qualitative.Safe[0], px.colors.qualitative.Safe[1]],\n",
    ")"
   ]
  },
  {
   "cell_type": "code",
   "execution_count": null,
   "metadata": {},
   "outputs": [],
   "source": [
    "# format figure\n",
    "fig.update_layout(\n",
    "    font=dict(\n",
    "        family=\"STIX Two Text\",\n",
    "        size=35,\n",
    "        color=\"black\"\n",
    "    ),\n",
    "    xaxis=dict(\n",
    "        title=\"Time in book t (ms)\",\n",
    "        title_standoff = 40,\n",
    "        title_font=dict(size=35),\n",
    "    ),\n",
    "    yaxis=dict(\n",
    "        title=\"1 - Ŝ(t)\",\n",
    "        title_standoff=40,\n",
    "        title_font=dict(size=35),\n",
    "    ),\n",
    "    legend=dict(itemsizing=\"constant\", x=0.60, y=0.1),\n",
    "    margin=dict(r=0.0),\n",
    ")\n",
    "fig.for_each_trace(\n",
    "    lambda trace: trace.update(\n",
    "        name=trace.name.replace(f\"{color}=\", \"\"),\n",
    "        marker={\"size\": 4}\n",
    "    )\n",
    ")"
   ]
  },
  {
   "cell_type": "code",
   "execution_count": null,
   "metadata": {},
   "outputs": [],
   "source": [
    "# export it\n",
    "plot_name = f\"{measure}_60s.pdf\"\n",
    "\n",
    "specs = dict(width=1600, height=1600/1.618)\n",
    "\n",
    "plot_path = Path(\"/Users/simon/Library/Mobile Documents/com~apple~CloudDocs/Academia/01_UniSG/00_Thesis/01_Thesis/01_draft/my_print_style/figures\")\n",
    "\n",
    "while True:\n",
    "    answer = input(f\"Are you sure to overwrite {plot_name}? [y/n]\\n\")\n",
    "\n",
    "    if answer == \"y\":\n",
    "        file_path = plot_path / plot_name\n",
    "        fig.write_image(str(file_path), **specs)\n",
    "        print(f\"Exported file {plot_name} to {plot_path}\")\n",
    "        break\n",
    "    elif answer == \"n\":\n",
    "        print(\"Aborted\")\n",
    "        break"
   ]
  },
  {
   "cell_type": "code",
   "execution_count": null,
   "metadata": {
    "scrolled": false
   },
   "outputs": [],
   "source": [
    "restricted_mean_survival_time(models[201906], return_variance=True, t=upper_limit)"
   ]
  },
  {
   "cell_type": "code",
   "execution_count": null,
   "metadata": {},
   "outputs": [],
   "source": [
    "math.sqrt(1001.7018713887246)"
   ]
  },
  {
   "cell_type": "code",
   "execution_count": null,
   "metadata": {},
   "outputs": [],
   "source": [
    "np.median(models[201907].durations)"
   ]
  },
  {
   "cell_type": "code",
   "execution_count": null,
   "metadata": {},
   "outputs": [],
   "source": [
    "np.median(models[201906].durations)"
   ]
  },
  {
   "cell_type": "code",
   "execution_count": null,
   "metadata": {
    "scrolled": false
   },
   "outputs": [],
   "source": [
    "rmst_plot(models[201907], models[201807], \n",
    "          t=upper_limit,\n",
    "          loc=slice(0, upper_limit),\n",
    "          text_position=(0.5*upper_limit, 0.5)\n",
    "         )"
   ]
  },
  {
   "cell_type": "code",
   "execution_count": null,
   "metadata": {},
   "outputs": [],
   "source": [
    "durations_a = models[201906].durations[models[201906].durations <= upper_limit]\n",
    "durations_b = models[201907].durations[models[201907].durations <= upper_limit]\n",
    "durations_c = models[201807].durations[models[201807].durations <= upper_limit]\n",
    "\n",
    "logrank_stats = logrank_test(durations_a, durations_b)\n",
    "logrank_stats.print_summary()"
   ]
  },
  {
   "cell_type": "code",
   "execution_count": null,
   "metadata": {},
   "outputs": [],
   "source": [
    "logrank_test(durations_b, durations_c).print_summary()"
   ]
  },
  {
   "cell_type": "code",
   "execution_count": null,
   "metadata": {},
   "outputs": [],
   "source": [
    "logrank_test(durations_a, durations_c).print_summary()"
   ]
  },
  {
   "cell_type": "code",
   "execution_count": null,
   "metadata": {},
   "outputs": [],
   "source": [
    "ranksum_stats = ranksums(durations_a, durations_c)\n",
    "ranksum_stats"
   ]
  },
  {
   "cell_type": "markdown",
   "metadata": {},
   "source": [
    "# RMST"
   ]
  },
  {
   "cell_type": "code",
   "execution_count": null,
   "metadata": {
    "scrolled": true
   },
   "outputs": [],
   "source": [
    "upper_limit = 100 \n",
    "rmst_results = pd.DataFrame(columns=[\"rmst\", \"restricted_sd\"])\n",
    "\n",
    "for month, model in tqdm(models.items()):\n",
    "    rmst, rmst_var = restricted_mean_survival_time(model, t=upper_limit, return_variance=True)\n",
    "    rmst_results.loc[month] = rmst, math.sqrt(rmst_var)\n",
    "rmst_results"
   ]
  },
  {
   "cell_type": "code",
   "execution_count": null,
   "metadata": {},
   "outputs": [],
   "source": [
    "def background_gradient(s, m, M, cmap='PuBu', low=0, high=0):\n",
    "    rng = M - m\n",
    "    norm = colors.Normalize(m - (rng * low),\n",
    "                            M + (rng * high))\n",
    "    normed = norm(s.values)\n",
    "    c = [colors.rgb2hex(x) for x in plt.cm.get_cmap(cmap)(normed)]\n",
    "    return ['background-color: %s' % color for color in c]"
   ]
  },
  {
   "cell_type": "code",
   "execution_count": null,
   "metadata": {},
   "outputs": [],
   "source": [
    "months = [yearmon*100 + 1 for yearmon in rmst_results[\"rmst\"].index]\n",
    "months = pd.Series([pd.Timestamp(str(month)) for month in months])\n",
    "months = months.dt.strftime(\"%b %y\")"
   ]
  },
  {
   "cell_type": "code",
   "execution_count": null,
   "metadata": {
    "scrolled": false
   },
   "outputs": [],
   "source": [
    "differences = np.subtract.outer(rmst_results[\"rmst\"].values, rmst_results[\"rmst\"].values).reshape((18, 18))\n",
    "differences = pd.DataFrame(differences)\n",
    "differences.columns = months\n",
    "differences.set_index(pd.Series(months), inplace=True)\n",
    "differences = differences.astype(float).round(1)\n",
    "\n",
    "styled_table = differences.style.apply(background_gradient,\n",
    "                        cmap=\"RdBu\",\n",
    "                        m=differences.min().min(),\n",
    "                        M=differences.max().max(),\n",
    "                       )\n",
    "html_code = styled_table.render()\n",
    "styled_table"
   ]
  },
  {
   "cell_type": "markdown",
   "metadata": {},
   "source": [
    "# Full durations"
   ]
  },
  {
   "cell_type": "code",
   "execution_count": null,
   "metadata": {},
   "outputs": [],
   "source": [
    "upper_limit = 1e2"
   ]
  },
  {
   "cell_type": "markdown",
   "metadata": {},
   "source": [
    "## this probably needs too much memory if used with `time_to_removal`"
   ]
  },
  {
   "cell_type": "code",
   "execution_count": null,
   "metadata": {
    "scrolled": true
   },
   "outputs": [],
   "source": [
    "durations = list()\n",
    "for month, model in tqdm(models.items()):\n",
    "    this_durations = pd.DataFrame(model.durations, columns=[\"durations\"])\n",
    "    this_durations[\"month\"] = month\n",
    "    this_durations[\"after_nonequivalence\"] = 201907 <= month\n",
    "    durations.append(this_durations)\n",
    "    \n",
    "durations = pd.concat(durations, sort=False)\n",
    "durations.reset_index(inplace=True, drop=True)"
   ]
  },
  {
   "cell_type": "code",
   "execution_count": null,
   "metadata": {},
   "outputs": [],
   "source": [
    "(durations[\"durations\"] < 1e3).value_counts()"
   ]
  },
  {
   "cell_type": "code",
   "execution_count": null,
   "metadata": {},
   "outputs": [],
   "source": [
    "%%time\n",
    "estimate_until = 20e3\n",
    "timeline = np.linspace(0, estimate_until, num=100000)\n",
    "\n",
    "mask = durations[\"after_nonequivalence\"]\n",
    "\n",
    "before = KaplanMeierFitter()\n",
    "before.fit(\n",
    "    durations=durations.loc[~mask, \"durations\"],\n",
    "    timeline=timeline,\n",
    "    label=\"before_nonequivalence\",\n",
    ")\n",
    "\n",
    "after = KaplanMeierFitter()\n",
    "after.fit(\n",
    "    durations=durations.loc[mask, \"durations\"],\n",
    "    timeline=timeline,\n",
    "    label=\"after_nonequivalence\",\n",
    ")"
   ]
  },
  {
   "cell_type": "code",
   "execution_count": null,
   "metadata": {},
   "outputs": [],
   "source": [
    "restricted_mean_survival_time(before, t=upper_limit, return_variance=True)"
   ]
  },
  {
   "cell_type": "code",
   "execution_count": null,
   "metadata": {},
   "outputs": [],
   "source": [
    "restricted_mean_survival_time(after, t=upper_limit, return_variance=True)"
   ]
  },
  {
   "cell_type": "code",
   "execution_count": null,
   "metadata": {
    "scrolled": true
   },
   "outputs": [],
   "source": [
    "math.sqrt(737.3378011665745)"
   ]
  },
  {
   "cell_type": "code",
   "execution_count": null,
   "metadata": {},
   "outputs": [],
   "source": [
    "for model in (before, after):\n",
    "    model.plot(loc=slice(0., upper_limit))"
   ]
  },
  {
   "cell_type": "code",
   "execution_count": null,
   "metadata": {},
   "outputs": [],
   "source": [
    "rmst_plot(before, after, t=upper_limit,\n",
    "          loc=slice(0., upper_limit*1.25),\n",
    "          text_position=(upper_limit*0.5, 0.5))"
   ]
  },
  {
   "cell_type": "markdown",
   "metadata": {},
   "source": [
    "## Pairwise logrank tests"
   ]
  },
  {
   "cell_type": "code",
   "execution_count": null,
   "metadata": {},
   "outputs": [],
   "source": [
    "%%time\n",
    "durations_before = durations.loc[~durations[\"after_nonequivalence\"], \"durations\"]\n",
    "durations_after = durations.loc[durations[\"after_nonequivalence\"], \"durations\"]\n",
    "logrank_results = logrank_test(durations_before, durations_after, t_0=1e2)"
   ]
  },
  {
   "cell_type": "code",
   "execution_count": null,
   "metadata": {},
   "outputs": [],
   "source": [
    "logrank_results.print_summary()"
   ]
  },
  {
   "cell_type": "code",
   "execution_count": null,
   "metadata": {},
   "outputs": [],
   "source": [
    "%%time\n",
    "logrank_results = pairwise_logrank_test(durations[\"durations\"], durations[\"month\"], t_0=1e2)"
   ]
  },
  {
   "cell_type": "code",
   "execution_count": null,
   "metadata": {
    "scrolled": true
   },
   "outputs": [],
   "source": [
    "logrank_results.print_summary()"
   ]
  }
 ],
 "metadata": {
  "kernelspec": {
   "display_name": "Python 3",
   "language": "python",
   "name": "python3"
  },
  "language_info": {
   "codemirror_mode": {
    "name": "ipython",
    "version": 3
   },
   "file_extension": ".py",
   "mimetype": "text/x-python",
   "name": "python",
   "nbconvert_exporter": "python",
   "pygments_lexer": "ipython3",
   "version": "3.8.0"
  }
 },
 "nbformat": 4,
 "nbformat_minor": 2
}
