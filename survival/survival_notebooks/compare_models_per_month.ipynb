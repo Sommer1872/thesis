{
 "cells": [
  {
   "cell_type": "code",
   "execution_count": null,
   "metadata": {},
   "outputs": [],
   "source": [
    "# change notebook cell width\n",
    "from IPython.core.display import display, HTML\n",
    "display(HTML(\"<style>.container { width:80% !important; }</style>\"))\n",
    "\n",
    "%cd \"/Users/simon/code/thesis/\"\n",
    "\n",
    "%load_ext autoreload\n",
    "%autoreload 2\n",
    "from IPython.display import display"
   ]
  },
  {
   "cell_type": "code",
   "execution_count": null,
   "metadata": {},
   "outputs": [],
   "source": [
    "import gzip\n",
    "import math\n",
    "from pathlib import Path\n",
    "import pickle\n",
    "\n",
    "from lifelines import KaplanMeierFitter\n",
    "from lifelines.plotting import rmst_plot\n",
    "from lifelines.statistics import pairwise_logrank_test, logrank_test\n",
    "from lifelines.utils import restricted_mean_survival_time\n",
    "import matplotlib\n",
    "import matplotlib.pyplot as plt\n",
    "from matplotlib import colors\n",
    "import numpy as np\n",
    "import pandas as pd\n",
    "import plotly_express as px\n",
    "import plotly.graph_objects as go\n",
    "import seaborn as sns\n",
    "from scipy.stats import ranksums\n",
    "from tqdm.notebook import tqdm\n",
    "\n",
    "matplotlib.rcParams['figure.figsize'] = (20.0, 10.0)\n",
    "pd.options.display.float_format = '{:.2f}'.format"
   ]
  },
  {
   "cell_type": "code",
   "execution_count": null,
   "metadata": {},
   "outputs": [],
   "source": [
    "measure = \"time_to_fill\"\n",
    "# measure = \"time_to_removal\"\n",
    "dir_path = Path.home() / \"data/thesis_statistics/models\"\n",
    "model_paths = sorted(list(dir_path.glob(f\"*{measure}*.gz\")))\n",
    "\n",
    "models = dict()\n",
    "for filepath in tqdm(model_paths):\n",
    "    month = int(filepath.name.split(\"_\")[3])\n",
    "    with gzip.open(filepath, \"rb\") as handle:\n",
    "        model = pickle.load(handle)\n",
    "        models[month] = model"
   ]
  },
  {
   "cell_type": "code",
   "execution_count": null,
   "metadata": {},
   "outputs": [],
   "source": [
    "num_obs = 0\n",
    "for month, model in models.items():\n",
    "    num_obs += model.durations.shape[0] / 1e6\n",
    "print(f\"Number of orders: {round(num_obs, 2)}mn\")\n",
    "print(f\"Per moth: {round(num_obs/len(models), 2)}mn\")"
   ]
  },
  {
   "cell_type": "markdown",
   "metadata": {},
   "source": [
    "# Survial Functions"
   ]
  },
  {
   "cell_type": "code",
   "execution_count": null,
   "metadata": {},
   "outputs": [],
   "source": [
    "upper_limit = 100 # milliseconds"
   ]
  },
  {
   "cell_type": "code",
   "execution_count": null,
   "metadata": {},
   "outputs": [],
   "source": [
    "# for yearmonth, model in models.items():\n",
    "#     below_limit = len(model.durations[model.durations <= upper_limit])\n",
    "#     total = len(model.durations)\n",
    "#     percentage =  below_limit / total\n",
    "#     print(f\"{yearmonth} \\t {round(100*percentage)}%\")"
   ]
  },
  {
   "cell_type": "code",
   "execution_count": null,
   "metadata": {
    "scrolled": false
   },
   "outputs": [],
   "source": [
    "survivals = list()\n",
    "for yearmon, model in models.items():\n",
    "    estimated_survival = model.survival_function_.loc[:upper_limit].copy()\n",
    "    estimated_survival.columns = [\"percentage\"]\n",
    "    estimated_survival[\"yearmon\"] = yearmon\n",
    "    survivals.append(estimated_survival)\n",
    "\n",
    "survivals = pd.concat(survivals).reset_index()"
   ]
  },
  {
   "cell_type": "code",
   "execution_count": null,
   "metadata": {},
   "outputs": [],
   "source": [
    "# convert to probability of execution/deletion\n",
    "survivals[\"percentage\"] = 1 - survivals[\"percentage\"]"
   ]
  },
  {
   "cell_type": "code",
   "execution_count": null,
   "metadata": {},
   "outputs": [],
   "source": [
    "mask = 201907 <= survivals[\"yearmon\"]\n",
    "survivals.loc[mask, \"timespan\"] = \"Months after non-equivalence\"\n",
    "survivals.loc[~mask, \"timespan\"] = \"Months before non-equivalence\"\n",
    "survivals.sort_values([\"timespan\", \"timeline\"], ascending=False, inplace=True)\n",
    "\n",
    "# months = [yearmon*100 + 1 for yearmon in survivals[\"yearmon\"]]\n",
    "# months = pd.Series([pd.Timestamp(str(month)) for month in months])\n",
    "\n",
    "# survivals[\"yearmon\"] = pd.to_datetime((100 * survivals[\"yearmon\"] + 1).astype(str))\n",
    "# # months = months.dt.strftime(\"%b %y\")\n",
    "\n",
    "# # create labels for 2018 H2, 2019 H1 and H2\n",
    "# mask = (pd.Timestamp(\"2019-07-01\") <= survivals[\"yearmon\"]) & (survivals[\"yearmon\"] < pd.Timestamp(\"2020-01-01\"))\n",
    "# survivals.loc[mask, \"half_year\"] = \"2019 H2\"  # pd.Timestamp(\"20190701\")\n",
    "\n",
    "# mask = (pd.Timestamp(\"2019-01-01\") <= survivals[\"yearmon\"]) & (survivals[\"yearmon\"] < pd.Timestamp(\"2019-07-01\"))\n",
    "# survivals.loc[mask, \"half_year\"] = \"2019 H1\"  # pd.Timestamp(\"20190101\")\n",
    "\n",
    "# mask = (pd.Timestamp(\"2018-01-01\") <= survivals[\"yearmon\"]) & (survivals[\"yearmon\"] < pd.Timestamp(\"2019-01-01\"))\n",
    "# survivals.loc[mask, \"half_year\"] = \"2018 H2\"  # pd.Timestamp(\"20180701\")\n",
    "\n",
    "# survivals[\"yearmon\"] = survivals[\"yearmon\"].dt.strftime(\"%b %y\")"
   ]
  },
  {
   "cell_type": "code",
   "execution_count": null,
   "metadata": {},
   "outputs": [],
   "source": [
    "color = \"timespan\"\n",
    "\n",
    "fig = px.line(\n",
    "    survivals,\n",
    "    x=\"timeline\",\n",
    "    y=\"percentage\",\n",
    "    color=color,\n",
    "#     symbol=color,\n",
    "    hover_name=\"yearmon\",\n",
    "    template=\"plotly_white\",\n",
    "    color_discrete_sequence=[px.colors.qualitative.Safe[0], px.colors.qualitative.Safe[1]],\n",
    ")"
   ]
  },
  {
   "cell_type": "code",
   "execution_count": null,
   "metadata": {},
   "outputs": [],
   "source": [
    "# format figure\n",
    "fig.update_layout(\n",
    "    font=dict(\n",
    "        family=\"STIX Two Text\",\n",
    "        size=35,\n",
    "        color=\"black\"\n",
    "    ),\n",
    "    xaxis=dict(\n",
    "        title=\"Time in book t (ms)\",\n",
    "        title_standoff = 40,\n",
    "        title_font=dict(size=35),\n",
    "    ),\n",
    "    yaxis=dict(\n",
    "        title=\"1 - Ŝ(t)\",\n",
    "        title_standoff=40,\n",
    "        title_font=dict(size=35),\n",
    "    ),\n",
    "    legend=dict(itemsizing=\"constant\", x=0.60, y=0.1),\n",
    "    margin=dict(r=0.0),\n",
    ")\n",
    "fig.for_each_trace(\n",
    "    lambda trace: trace.update(\n",
    "        name=trace.name.replace(f\"{color}=\", \"\"),\n",
    "        marker={\"size\": 4}\n",
    "    )\n",
    ")"
   ]
  },
  {
   "cell_type": "code",
   "execution_count": null,
   "metadata": {},
   "outputs": [],
   "source": [
    "# export it\n",
    "plot_name = f\"{measure}_60s.pdf\"\n",
    "\n",
    "specs = dict(width=1600, height=1600/1.618)\n",
    "\n",
    "plot_path = Path(\"/Users/simon/Library/Mobile Documents/com~apple~CloudDocs/Academia/01_UniSG/00_Thesis/01_Thesis/01_draft/my_print_style/figures\")\n",
    "\n",
    "while True:\n",
    "    answer = input(f\"Are you sure to overwrite {plot_name}? [y/n]\\n\")\n",
    "\n",
    "    if answer == \"y\":\n",
    "        file_path = plot_path / plot_name\n",
    "        fig.write_image(str(file_path), **specs)\n",
    "        print(f\"Exported file {plot_name} to {plot_path}\")\n",
    "        break\n",
    "    elif answer == \"n\":\n",
    "        print(\"Aborted\")\n",
    "        break"
   ]
  }
 ],
 "metadata": {
  "kernelspec": {
   "display_name": "Python 3",
   "language": "python",
   "name": "python3"
  },
  "language_info": {
   "codemirror_mode": {
    "name": "ipython",
    "version": 3
   },
   "file_extension": ".py",
   "mimetype": "text/x-python",
   "name": "python",
   "nbconvert_exporter": "python",
   "pygments_lexer": "ipython3",
   "version": "3.8.0"
  }
 },
 "nbformat": 4,
 "nbformat_minor": 2
}
